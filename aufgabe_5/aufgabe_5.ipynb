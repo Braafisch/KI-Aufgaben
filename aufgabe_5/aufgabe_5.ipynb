{
  "cells": [
    {
      "cell_type": "markdown",
      "metadata": {
        "id": "view-in-github",
        "colab_type": "text"
      },
      "source": [
        "<a href=\"https://colab.research.google.com/github/Braafisch/KI-Aufgaben/blob/main/aufgabe_5/aufgabe_5.ipynb\" target=\"_parent\"><img src=\"https://colab.research.google.com/assets/colab-badge.svg\" alt=\"Open In Colab\"/></a>"
      ]
    },
    {
      "cell_type": "code",
      "execution_count": null,
      "metadata": {
        "id": "eBPFVUXdWEfz"
      },
      "outputs": [],
      "source": [
        "print(\"Berlin was geht ab!\")"
      ]
    },
    {
      "cell_type": "markdown",
      "source": [
        "# 1 Logistic Regression\n",
        "We consider a research study on the behaviour of customers of a web shop and the relationship between\n",
        "sales and appreciation of the website. A number of visitors to the website were asked to mark their\n",
        "appreciation of the website on a 5 point Likert scale, ranging from 1 (very bad) to 5 (very good). For\n",
        "these visitors was also recorded whether they actually bought something on the website.\n",
        "\n",
        "The results are summarized here\n",
        "\n",
        "Appreciation | Buy(no) | Buy(yes) |  Total\n",
        "-----|-------|-------|------------------\n",
        "1 | 6 | 2 | 8 \n",
        "2 | 5 | 2 | 7\n",
        "3 | 7 | 6 | 13\n",
        "4 | 3 | 7 | 10\n",
        "5 | 1 | 8 | 9\n",
        "Total | 22 | 25 | 47\n",
        "\n",
        "For example, among 8 people with appreciation score 1, only two bought something. We introduce\n",
        "the variable Y to denote whether a customer has bought something (Y = 1) or not (Y = 0). The variable\n",
        "X is introduced to denote the appreciation value for a customer X = 1, ..., 5."
      ],
      "metadata": {
        "id": "ainbx-GPWSPf"
      }
    },
    {
      "cell_type": "markdown",
      "source": [
        "## 1.1 Exercise\n",
        "Consider an arbitrary visitor of the website and assume that you do not have any information about how\n",
        "much this customer appreciates the website. How large is the probability that this customer has actually\n",
        "bought something?"
      ],
      "metadata": {
        "id": "19bPobisYNkq"
      }
    },
    {
      "cell_type": "code",
      "source": [
        "print(f\"probability: {25/47}\")"
      ],
      "metadata": {
        "id": "V23T78AtYLxD",
        "outputId": "4c057a40-1f20-40db-8f1f-d8772ce24e1c",
        "colab": {
          "base_uri": "https://localhost:8080/"
        }
      },
      "execution_count": 1,
      "outputs": [
        {
          "output_type": "stream",
          "name": "stdout",
          "text": [
            "probability: 0.5319148936170213\n"
          ]
        }
      ]
    },
    {
      "cell_type": "markdown",
      "source": [
        "## 1.2 Exercise\n",
        "Consider the group of 8 visitors with a website appreciation score equal to 1\n",
        "1. What is the probability that a customer from this group has actually bought some thing on this\n",
        "website?\n",
        "2. What are the odds that a customer from this group has bought something against not having bought\n",
        "something?\n",
        "3. What is the (natural) logarithm of the odds ratio for a customer of this group\n",
        "4. Repeat the calculations for each group of website visitors corresponding to the different levels of the\n",
        "appreciation variable"
      ],
      "metadata": {
        "id": "EiNxrz5xaidh"
      }
    },
    {
      "cell_type": "code",
      "source": [
        ""
      ],
      "metadata": {
        "id": "fLwJz4PfWGjb"
      },
      "execution_count": null,
      "outputs": []
    }
  ],
  "metadata": {
    "language_info": {
      "name": "python"
    },
    "orig_nbformat": 4,
    "colab": {
      "name": "aufgabe_5.ipynb",
      "provenance": [],
      "include_colab_link": true
    },
    "kernelspec": {
      "name": "python3",
      "display_name": "Python 3"
    }
  },
  "nbformat": 4,
  "nbformat_minor": 0
}
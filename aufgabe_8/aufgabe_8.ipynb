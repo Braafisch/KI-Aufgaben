{
  "cells": [
    {
      "cell_type": "code",
      "execution_count": null,
      "metadata": {
        "id": "hdz14d76MKXk",
        "outputId": "5d68bfef-6870-4d26-823f-920ab27337bd"
      },
      "outputs": [
        {
          "name": "stdout",
          "output_type": "stream",
          "text": [
            "Berlin was geht ab!\n"
          ]
        }
      ],
      "source": [
        "print(\"Berlin was geht ab!\")"
      ]
    },
    {
      "cell_type": "markdown",
      "source": [
        "# Exercise: k-armed bandits\n",
        "We use the 10-armed bandit testbed from Sutton & Barto 2020\n",
        "\n",
        "\n",
        "\n",
        "*   The true value q*\n",
        "(a) of each of the ten actions a is selected according to a normal distribution \n",
        "with mean 0 and unit variance\n",
        "*    The actual rewards are selected according to a mean q*\n",
        "(a), and are also unit-variance normal distributed, as suggested by these gray distributions. \n",
        "* Action-value estimates using the sample-average technique (with an initial estimate of 0)\n",
        "\n",
        "\n",
        "> 1.   Run 1000 time steps for the generated 10-armed bandit problems and action-value \n",
        "algorithms\n",
        "2.    Use 2000 randomly generated 10-armed bandit problems of this type.\n",
        "Run 1000 time steps for each of the 2000 randomly generated 10-armed bandit problems \n",
        "and action-value algorithms and average the results for each time step.\n",
        "\n",
        "\n",
        "\n",
        "\n",
        "\n",
        "\n",
        "\n"
      ],
      "metadata": {
        "id": "a6SYk1DNMM9_"
      }
    },
    {
      "cell_type": "code",
      "source": [
        "import numpy as np\n",
        "from numpy.random import random\n",
        "from numpy.random import randint\n",
        "from numpy.random import normal"
      ],
      "metadata": {
        "id": "2ozciB-sMME8"
      },
      "execution_count": 16,
      "outputs": []
    },
    {
      "cell_type": "code",
      "source": [
        "#def action_values():\n",
        "  \n",
        "def sample_average(alpha,R,Q):\n",
        "  return alpha*(R-Q)\n",
        "\n",
        "def action_selection(Q,epsilon=0):\n",
        "      p = random()\n",
        "      if p < epsilon:\n",
        "        return randint(0,len(Q))\n",
        "      else:\n",
        "        ids = np.argwhere(Q[:,0] == np.amax(Q))\n",
        "        return ids[randint(0,ids.shape[0])] if ids.shape[0] > 1 else ids[0]\n",
        "        "
      ],
      "metadata": {
        "id": "C0JK-p0tPC29"
      },
      "execution_count": 20,
      "outputs": []
    },
    {
      "cell_type": "code",
      "source": [
        "nr_steps = 2000\n",
        "nr_runs = 2000\n",
        "R_run = np.zeros((nr_runs,nr_steps))\n",
        "\n",
        "for run in range(nr_runs):\n",
        "  Rewards = np.random.normal(0,1,[10,1])\n",
        "  Q = np.zeros((10,1),dtype=float) \n",
        "  N = np.zeros((10,1),dtype=int)\n",
        "\n",
        "  for step in range(nr_steps):\n",
        "    A = action_selection(Q,epsilon=0.01)\n",
        "    R = normal(Rewards[A],1,size=None)\n",
        "    N[A] += 1\n",
        "    Q[A] += sample_average(1/N[A], R, Q[A])\n",
        "    R_run[run,step] = R"
      ],
      "metadata": {
        "colab": {
          "base_uri": "https://localhost:8080/",
          "height": 235
        },
        "id": "nodqOiSmUy6v",
        "outputId": "1fae37e4-848b-4184-d24a-7389ead4797e"
      },
      "execution_count": 21,
      "outputs": [
        {
          "output_type": "error",
          "ename": "KeyboardInterrupt",
          "evalue": "ignored",
          "traceback": [
            "\u001b[0;31m---------------------------------------------------------------------------\u001b[0m",
            "\u001b[0;31mKeyboardInterrupt\u001b[0m                         Traceback (most recent call last)",
            "\u001b[0;32m<ipython-input-21-b30a12992c30>\u001b[0m in \u001b[0;36m<module>\u001b[0;34m()\u001b[0m\n\u001b[1;32m     11\u001b[0m     \u001b[0mA\u001b[0m \u001b[0;34m=\u001b[0m \u001b[0maction_selection\u001b[0m\u001b[0;34m(\u001b[0m\u001b[0mQ\u001b[0m\u001b[0;34m,\u001b[0m\u001b[0mepsilon\u001b[0m\u001b[0;34m=\u001b[0m\u001b[0;36m0.01\u001b[0m\u001b[0;34m)\u001b[0m\u001b[0;34m\u001b[0m\u001b[0;34m\u001b[0m\u001b[0m\n\u001b[1;32m     12\u001b[0m     \u001b[0mR\u001b[0m \u001b[0;34m=\u001b[0m \u001b[0mnormal\u001b[0m\u001b[0;34m(\u001b[0m\u001b[0mRewards\u001b[0m\u001b[0;34m[\u001b[0m\u001b[0mA\u001b[0m\u001b[0;34m]\u001b[0m\u001b[0;34m,\u001b[0m\u001b[0;36m1\u001b[0m\u001b[0;34m,\u001b[0m\u001b[0msize\u001b[0m\u001b[0;34m=\u001b[0m\u001b[0;32mNone\u001b[0m\u001b[0;34m)\u001b[0m\u001b[0;34m\u001b[0m\u001b[0;34m\u001b[0m\u001b[0m\n\u001b[0;32m---> 13\u001b[0;31m     \u001b[0mN\u001b[0m\u001b[0;34m[\u001b[0m\u001b[0mA\u001b[0m\u001b[0;34m]\u001b[0m \u001b[0;34m+=\u001b[0m \u001b[0;36m1\u001b[0m\u001b[0;34m\u001b[0m\u001b[0;34m\u001b[0m\u001b[0m\n\u001b[0m\u001b[1;32m     14\u001b[0m     \u001b[0mQ\u001b[0m\u001b[0;34m[\u001b[0m\u001b[0mA\u001b[0m\u001b[0;34m]\u001b[0m \u001b[0;34m+=\u001b[0m \u001b[0msample_average\u001b[0m\u001b[0;34m(\u001b[0m\u001b[0;36m1\u001b[0m\u001b[0;34m/\u001b[0m\u001b[0mN\u001b[0m\u001b[0;34m[\u001b[0m\u001b[0mA\u001b[0m\u001b[0;34m]\u001b[0m\u001b[0;34m,\u001b[0m \u001b[0mR\u001b[0m\u001b[0;34m,\u001b[0m \u001b[0mQ\u001b[0m\u001b[0;34m[\u001b[0m\u001b[0mA\u001b[0m\u001b[0;34m]\u001b[0m\u001b[0;34m)\u001b[0m\u001b[0;34m\u001b[0m\u001b[0;34m\u001b[0m\u001b[0m\n\u001b[1;32m     15\u001b[0m     \u001b[0mR_run\u001b[0m\u001b[0;34m[\u001b[0m\u001b[0mrun\u001b[0m\u001b[0;34m,\u001b[0m\u001b[0mstep\u001b[0m\u001b[0;34m]\u001b[0m \u001b[0;34m=\u001b[0m \u001b[0mR\u001b[0m\u001b[0;34m\u001b[0m\u001b[0;34m\u001b[0m\u001b[0m\n",
            "\u001b[0;31mKeyboardInterrupt\u001b[0m: "
          ]
        }
      ]
    },
    {
      "cell_type": "code",
      "source": [
        "R = normal(0.5,1,size=None)\n",
        "R = R.flatten()[0]\n",
        "print(R)"
      ],
      "metadata": {
        "colab": {
          "base_uri": "https://localhost:8080/",
          "height": 201
        },
        "id": "5cEVNFyhdkfi",
        "outputId": "cbc289a3-fa2c-42ff-d36a-147b765de00b"
      },
      "execution_count": 19,
      "outputs": [
        {
          "output_type": "error",
          "ename": "AttributeError",
          "evalue": "ignored",
          "traceback": [
            "\u001b[0;31m---------------------------------------------------------------------------\u001b[0m",
            "\u001b[0;31mAttributeError\u001b[0m                            Traceback (most recent call last)",
            "\u001b[0;32m<ipython-input-19-38378298b840>\u001b[0m in \u001b[0;36m<module>\u001b[0;34m()\u001b[0m\n\u001b[1;32m      1\u001b[0m \u001b[0mR\u001b[0m \u001b[0;34m=\u001b[0m \u001b[0mnormal\u001b[0m\u001b[0;34m(\u001b[0m\u001b[0;36m0.5\u001b[0m\u001b[0;34m,\u001b[0m\u001b[0;36m1\u001b[0m\u001b[0;34m,\u001b[0m\u001b[0msize\u001b[0m\u001b[0;34m=\u001b[0m\u001b[0;32mNone\u001b[0m\u001b[0;34m)\u001b[0m\u001b[0;34m\u001b[0m\u001b[0;34m\u001b[0m\u001b[0m\n\u001b[0;32m----> 2\u001b[0;31m \u001b[0mR\u001b[0m \u001b[0;34m=\u001b[0m \u001b[0mR\u001b[0m\u001b[0;34m.\u001b[0m\u001b[0mflatten\u001b[0m\u001b[0;34m(\u001b[0m\u001b[0;34m)\u001b[0m\u001b[0;34m[\u001b[0m\u001b[0;36m0\u001b[0m\u001b[0;34m]\u001b[0m\u001b[0;34m\u001b[0m\u001b[0;34m\u001b[0m\u001b[0m\n\u001b[0m\u001b[1;32m      3\u001b[0m \u001b[0mprint\u001b[0m\u001b[0;34m(\u001b[0m\u001b[0mR\u001b[0m\u001b[0;34m)\u001b[0m\u001b[0;34m\u001b[0m\u001b[0;34m\u001b[0m\u001b[0m\n",
            "\u001b[0;31mAttributeError\u001b[0m: 'float' object has no attribute 'flatten'"
          ]
        }
      ]
    }
  ],
  "metadata": {
    "interpreter": {
      "hash": "9da9d52195322e173d33ae2e6a5687ee9810f43282d66f05579a543f3ee9968b"
    },
    "kernelspec": {
      "display_name": "Python 3.10.4 64-bit",
      "language": "python",
      "name": "python3"
    },
    "language_info": {
      "codemirror_mode": {
        "name": "ipython",
        "version": 3
      },
      "file_extension": ".py",
      "mimetype": "text/x-python",
      "name": "python",
      "nbconvert_exporter": "python",
      "pygments_lexer": "ipython3",
      "version": "3.10.4"
    },
    "orig_nbformat": 4,
    "colab": {
      "name": "aufgabe_8.ipynb",
      "provenance": []
    }
  },
  "nbformat": 4,
  "nbformat_minor": 0
}
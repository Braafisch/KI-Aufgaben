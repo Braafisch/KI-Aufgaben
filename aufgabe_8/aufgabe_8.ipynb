{
  "cells": [
    {
      "cell_type": "markdown",
      "metadata": {
        "id": "view-in-github",
        "colab_type": "text"
      },
      "source": [
        "<a href=\"https://colab.research.google.com/github/Braafisch/KI-Aufgaben/blob/main/aufgabe_8/aufgabe_8.ipynb\" target=\"_parent\"><img src=\"https://colab.research.google.com/assets/colab-badge.svg\" alt=\"Open In Colab\"/></a>"
      ]
    },
    {
      "cell_type": "code",
      "execution_count": null,
      "metadata": {
        "id": "hdz14d76MKXk",
        "outputId": "5d68bfef-6870-4d26-823f-920ab27337bd"
      },
      "outputs": [
        {
          "name": "stdout",
          "output_type": "stream",
          "text": [
            "Berlin was geht ab!\n"
          ]
        }
      ],
      "source": [
        "print(\"Berlin was geht ab!\")"
      ]
    },
    {
      "cell_type": "markdown",
      "source": [
        "# Exercise: k-armed bandits\n",
        "We use the 10-armed bandit testbed from Sutton & Barto 2020\n",
        "\n",
        "\n",
        "\n",
        "*   The true value q*\n",
        "(a) of each of the ten actions a is selected according to a normal distribution \n",
        "with mean 0 and unit variance\n",
        "*    The actual rewards are selected according to a mean q*\n",
        "(a), and are also unit-variance normal distributed, as suggested by these gray distributions. \n",
        "* Action-value estimates using the sample-average technique (with an initial estimate of 0)\n",
        "\n",
        "\n",
        "> 1.   Run 1000 time steps for the generated 10-armed bandit problems and action-value \n",
        "algorithms\n",
        "2.    Use 2000 randomly generated 10-armed bandit problems of this type.\n",
        "Run 1000 time steps for each of the 2000 randomly generated 10-armed bandit problems \n",
        "and action-value algorithms and average the results for each time step.\n",
        "\n",
        "\n",
        "\n",
        "\n",
        "\n",
        "\n",
        "\n"
      ],
      "metadata": {
        "id": "a6SYk1DNMM9_"
      }
    },
    {
      "cell_type": "code",
      "source": [
        "import numpy as np\n",
        "import matplotlib.pyplot as plt\n",
        "\n",
        "from numpy.random import random\n",
        "from numpy.random import randint\n",
        "from numpy.random import normal"
      ],
      "metadata": {
        "id": "2ozciB-sMME8"
      },
      "execution_count": 1,
      "outputs": []
    },
    {
      "cell_type": "code",
      "source": [
        "def sample_average(alpha,R,Q):\n",
        "  return alpha*(R-Q)\n",
        "\n",
        "def action_selection(Q,epsilon=0):\n",
        "      p = random()\n",
        "      if p < epsilon:\n",
        "        return randint(0,len(Q))\n",
        "      else:\n",
        "        ids = np.argwhere(Q[:,0] == np.amax(Q))\n",
        "        return ids[randint(0,ids.shape[0])] if ids.shape[0] > 1 else ids[0]\n",
        "\n",
        "def run(nr_runs,nr_steps,epsilon=0):\n",
        "  R_run = np.zeros((nr_runs,nr_steps))\n",
        "  for run in range(nr_runs):\n",
        "    Rewards = np.random.normal(0,1,[10,1])\n",
        "    Q = np.zeros((10,1),dtype=float) \n",
        "    N = np.zeros((10,1),dtype=int)\n",
        "\n",
        "    for step in range(nr_steps):\n",
        "      A = action_selection(Q,epsilon=epsilon)\n",
        "      R = normal(Rewards[A],1,size=None)\n",
        "      N[A] += 1\n",
        "      Q[A] += sample_average(1/N[A], R, Q[A])\n",
        "      R_run[run,step] = R\n",
        "\n",
        "  return R_run"
      ],
      "metadata": {
        "id": "C0JK-p0tPC29"
      },
      "execution_count": 2,
      "outputs": []
    },
    {
      "cell_type": "markdown",
      "source": [
        "Run 1000 time steps for the generated 10-armed bandit problems and action-value algorithms"
      ],
      "metadata": {
        "id": "nJyLINr9eTZx"
      }
    },
    {
      "cell_type": "code",
      "source": [
        "data = run(1,1000)\n",
        "np.savez('result_task_0_aufgabe_1.npz', Result=data)"
      ],
      "metadata": {
        "id": "8Uok1KtUPdL6"
      },
      "execution_count": null,
      "outputs": []
    },
    {
      "cell_type": "markdown",
      "source": [
        "Use 2000 randomly generated 10-armed bandit problems of this type. Run 1000 time steps for each of the 2000 randomly generated 10-armed bandit problems and action-value algorithms and average the results for each time step."
      ],
      "metadata": {
        "id": "6Ud0KI3jeVJA"
      }
    },
    {
      "cell_type": "code",
      "source": [
        "data = run(2000,1000)\n",
        "np.savez('result_task_0_aufgabe_1.npz',Results = data)"
      ],
      "metadata": {
        "id": "5cEVNFyhdkfi"
      },
      "execution_count": null,
      "outputs": []
    },
    {
      "cell_type": "code",
      "source": [
        "x = range(1000)\n",
        "y = data\n",
        "plt.plot(x,y,color='g')\n",
        "plt.xlim(0,1000)\n",
        "plt.xlabel(\"Steps\")"
      ],
      "metadata": {
        "id": "SEaCleC2e44U"
      },
      "execution_count": null,
      "outputs": []
    },
    {
      "cell_type": "code",
      "source": [
        "data = np.load('results_aufgabe_1.npz')\n",
        "Result = data['Result']\n",
        "\n",
        "plt.plot(range(1000),Result, color='red')\n",
        "plt.show()"
      ],
      "metadata": {
        "id": "tMhup4LltZai",
        "outputId": "2890ead8-2258-43e6-85b7-a154098a7250",
        "colab": {
          "base_uri": "https://localhost:8080/",
          "height": 269
        }
      },
      "execution_count": null,
      "outputs": [
        {
          "output_type": "display_data",
          "data": {
            "text/plain": [
              "<Figure size 432x288 with 1 Axes>"
            ],
            "image/png": "[encoded data removed]"
          },
          "metadata": {
            "needs_background": "light"
          }
        }
      ]
    }
  ],
  "metadata": {
    "interpreter": {
      "hash": "9da9d52195322e173d33ae2e6a5687ee9810f43282d66f05579a543f3ee9968b"
    },
    "kernelspec": {
      "display_name": "Python 3.10.4 64-bit",
      "language": "python",
      "name": "python3"
    },
    "language_info": {
      "codemirror_mode": {
        "name": "ipython",
        "version": 3
      },
      "file_extension": ".py",
      "mimetype": "text/x-python",
      "name": "python",
      "nbconvert_exporter": "python",
      "pygments_lexer": "ipython3",
      "version": "3.10.4"
    },
    "orig_nbformat": 4,
    "colab": {
      "name": "aufgabe_8.ipynb",
      "provenance": [],
      "include_colab_link": true
    }
  },
  "nbformat": 4,
  "nbformat_minor": 0
}
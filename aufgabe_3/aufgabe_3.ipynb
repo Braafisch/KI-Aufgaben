{
  "cells": [
    {
      "cell_type": "markdown",
      "metadata": {
        "id": "view-in-github",
        "colab_type": "text"
      },
      "source": [
        "<a href=\"https://colab.research.google.com/github/Braafisch/KI-Aufgaben/blob/main/aufgabe_3/aufgabe_3.ipynb\" target=\"_parent\"><img src=\"https://colab.research.google.com/assets/colab-badge.svg\" alt=\"Open In Colab\"/></a>"
      ]
    },
    {
      "cell_type": "code",
      "execution_count": 1,
      "metadata": {
        "id": "QgeOC4aMWk75"
      },
      "outputs": [],
      "source": [
        "%matplotlib inline\n",
        "import matplotlib.pyplot as plt\n",
        "import numpy as np\n",
        "from scipy import stats"
      ]
    },
    {
      "cell_type": "markdown",
      "source": [
        "### 1 Biased Coin Flipping\n",
        "1. Consider flipping a biased coin with parameter θ. Prove that\n",
        "$$\\hat{θ}_{MAP}=\\frac{k + a − 1}{N + a + b − 2}\\text{.}$$\n",
        "for a $Beta(θ|a, b)$ prior, $N$ trials, with $k$ HEADs. Hint: Start from the proof of the maximum\n",
        "likelihood solution discussed in the lecture.\n",
        "2. Now let $θ = 0.25$. Draw $N = 5$ samples and compute and plot the posterior distribution, if you\n",
        "start with a prior $Beta(θ|a, b)$ with $a = 2$ and $b = 2$. Compare this with the situation where you use\n",
        "$a = 4$ and $b = 4$."
      ],
      "metadata": {
        "id": "p797HauDWpZd"
      }
    },
    {
      "cell_type": "code",
      "source": [
        ""
      ],
      "metadata": {
        "id": "_MwooZKxXzZY"
      },
      "execution_count": null,
      "outputs": []
    }
  ],
  "metadata": {
    "interpreter": {
      "hash": "2db524e06e9f5f4ffedc911c917cb75e12dbc923643829bf417064a77eb14d37"
    },
    "kernelspec": {
      "display_name": "Python 3.8.2 64-bit",
      "language": "python",
      "name": "python3"
    },
    "language_info": {
      "codemirror_mode": {
        "name": "ipython",
        "version": 3
      },
      "file_extension": ".py",
      "mimetype": "text/x-python",
      "name": "python",
      "nbconvert_exporter": "python",
      "pygments_lexer": "ipython3",
      "version": "3.8.2"
    },
    "orig_nbformat": 4,
    "colab": {
      "name": "aufgabe_3.ipynb",
      "provenance": [],
      "include_colab_link": true
    }
  },
  "nbformat": 4,
  "nbformat_minor": 0
}
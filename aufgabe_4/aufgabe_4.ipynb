{
  "cells": [
    {
      "cell_type": "markdown",
      "metadata": {
        "id": "view-in-github",
        "colab_type": "text"
      },
      "source": [
        "<a href=\"https://colab.research.google.com/github/Braafisch/KI-Aufgaben/blob/main/aufgabe_4/aufgabe_4.ipynb\" target=\"_parent\"><img src=\"https://colab.research.google.com/assets/colab-badge.svg\" alt=\"Open In Colab\"/></a>"
      ]
    },
    {
      "cell_type": "code",
      "execution_count": null,
      "metadata": {
        "id": "9jJ-PXHnPvAF",
        "outputId": "9b95b98c-997d-4c4e-a64d-cebb858d738b"
      },
      "outputs": [
        {
          "name": "stdout",
          "output_type": "stream",
          "text": [
            "Berlin was geht ab!\n"
          ]
        }
      ],
      "source": [
        "print(\"Berlin was geht ab!\")"
      ]
    },
    {
      "cell_type": "code",
      "source": [
        "%matplotlib inline\n",
        "import matplotlib.pyplot as plt\n",
        "import numpy as np\n",
        "import pandas as pd\n",
        "from scipy import stats\n",
        "from sklearn.linear_model import LinearRegression\n",
        "from numpy.linalg import inv"
      ],
      "metadata": {
        "id": "NxhLe0n3P2OZ"
      },
      "execution_count": 4,
      "outputs": []
    },
    {
      "cell_type": "markdown",
      "source": [
        "# 1 House Price Model\n",
        "Fit a linear regression model to predict house prices with the data shown in the lecture:\n",
        "\n",
        "age area  |  prize (K EUR)\n",
        "-------------------|------------------\n",
        "10, 150       | 300 \n",
        "15, 120       | 200 \n",
        "10, 100       | 250\n",
        "\n",
        "\n",
        "Use your model to predict the price of a house of age 12 years and area 120 square meters.\n",
        "\n",
        "1. First you should try to build a model using Numpy commands only. To invert a matrix, you can use\n",
        "the function np.linalg.inv.\n",
        "2. Now use the machine learning library sklearn. Import the class LinearRegression from the\n",
        "linear_model subpackage (see below). Check out the documentation (API) of the class, it contains\n",
        "a small example."
      ],
      "metadata": {
        "id": "v2KnFipHQMZM"
      }
    },
    {
      "cell_type": "code",
      "source": [
        "X = np.array([[1,10,150],[1,15,120],[1,10,100]])\n",
        "y = np.array([300,200,250])\n",
        "\n",
        "th = inv(X.T @ X) @ X.T @ y\n",
        "x_test = np.array([1,12,120])\n",
        "print(th@x_test)\n",
        "\n",
        "X = np.array([[10,150],[15,120],[10,100]])\n",
        "model = LinearRegression()\n",
        "model.fit(X,y)\n",
        "print(model.predict(np.array([12,120],ndmin=2)))"
      ],
      "metadata": {
        "id": "AIvpc0R9HOVx",
        "outputId": "0c1de0ae-d526-4678-cbe4-57162f3db2e3",
        "colab": {
          "base_uri": "https://localhost:8080/"
        }
      },
      "execution_count": null,
      "outputs": [
        {
          "output_type": "stream",
          "name": "stdout",
          "text": [
            "242.00000000000068\n",
            "[242.]\n"
          ]
        }
      ]
    },
    {
      "cell_type": "code",
      "source": [
        "np.array([[12,120]]).shape"
      ],
      "metadata": {
        "id": "-lQuQrHAJQKD",
        "outputId": "08180679-3544-443c-d219-a060320416c4",
        "colab": {
          "base_uri": "https://localhost:8080/"
        }
      },
      "execution_count": null,
      "outputs": [
        {
          "output_type": "execute_result",
          "data": {
            "text/plain": [
              "(1, 2)"
            ]
          },
          "metadata": {},
          "execution_count": 13
        }
      ]
    },
    {
      "cell_type": "markdown",
      "source": [
        "# 2 Polynomial Features and Ridge Regression\n",
        "In this exercise we explore multivariate polynomial basis expansion using the class PolynomialFeatures\n",
        "in the package sklearn.preprocessing (read the docs).\n",
        "1. Generate data using sklearn.datasets.make_friedman2 (highly non-linear regression problem):\n",
        "Use the default parameter and create n = 200 samples. Use the function train_test_split in the\n",
        "package sklearn.model_selection to split the data in a training and a validation set (75% for\n",
        "training and 25% for validation).\n",
        "2. Fit several models on the training data: first a ridge regression model and, then, ridge regression\n",
        "models where you apply the PolynomialFeatures class (with different degrees, ranging from 2\n",
        "to 5) as a preprocessing step. All regression models should be instances of the class Ridge in\n",
        "sklearn.linear_model and should use the default parameters. In order to efficiently implement\n",
        "the preprocessing steps, check out the hint below.\n",
        "3. Compare the models using the validation set to measure the mean square error (MSE) of both\n",
        "models. Which one performs better?\n",
        "4. Now generate more data with make_friedman2 (this is the test data) and evaluate the models\n",
        "with respect to the MSE on this data. Does the measured error coincide with the results on the\n",
        "validation set?\n",
        "\n",
        "#### Hint\n",
        "Sklearn offers so called pipelines, which allows you to combine several preprocessing steps and the final\n",
        "estimator into one object. Here is an example, using a sklearn.preprocessing.StandardScaler and\n",
        "the function sklearn.pipeline.make_pipeline to build the pipeline."
      ],
      "metadata": {
        "id": "h6PBteuiMZkb"
      }
    },
    {
      "cell_type": "code",
      "source": [
        "from sklearn.model_selection import train_test_split\n",
        "from sklearn.datasets import make_friedman2\n",
        "from sklearn.metrics import mean_squared_error\n",
        "from sklearn.preprocessing import PolynomialFeatures\n",
        "from sklearn.preprocessing import StandardScaler\n",
        "from sklearn.pipeline import make_pipeline\n",
        "from sklearn.linear_model import Ridge"
      ],
      "metadata": {
        "id": "ZwnlFWMnMqMZ"
      },
      "execution_count": 2,
      "outputs": []
    },
    {
      "cell_type": "code",
      "source": [
        "np.random.seed(10)\n",
        "\n",
        "X, y = make_friedman2(n_samples=200)\n",
        "X_train, X_val, y_train, y_val = train_test_split(X,y, train_size=0.75)"
      ],
      "metadata": {
        "id": "y3snzMmjM0Ob"
      },
      "execution_count": 3,
      "outputs": []
    },
    {
      "cell_type": "code",
      "source": [
        "res = list()\n",
        "\n",
        "for d in range(1,15):\n",
        "  pipe = make_pipeline(PolynomialFeatures(degree=d),\n",
        "                       StandardScaler(),\n",
        "                       Ridge()).fit(X_train, y_train)\n",
        "  res.append({\"degree\": d,\n",
        "              \"mse_train\": mean_squared_error(y_train, pipe.predict(X_train)),\n",
        "              \"mse_val\": mean_squared_error(y_val,pipe.predict(X_val)),\n",
        "              })\n",
        "  \n",
        "res = pd.DataFrame(res)\n",
        "\n",
        "res.head()"
      ],
      "metadata": {
        "id": "fXB-EuRmHm5I",
        "outputId": "67f899a6-ac8f-4b99-dd77-6d346e78afee",
        "colab": {
          "base_uri": "https://localhost:8080/",
          "height": 206
        }
      },
      "execution_count": 11,
      "outputs": [
        {
          "output_type": "execute_result",
          "data": {
            "text/plain": [
              "   degree     mse_train       mse_val\n",
              "0       1  21677.866968  17773.706663\n",
              "1       2     80.380438    132.804228\n",
              "2       3    130.334660    199.157239\n",
              "3       4    104.417655    191.825649\n",
              "4       5     70.775860    147.223217"
            ],
            "text/html": [
              "\n",
              "  <div id=\"df-01bdd3eb-dff1-4a5c-9de3-91f87425b825\">\n",
              "    <div class=\"colab-df-container\">\n",
              "      <div>\n",
              "<style scoped>\n",
              "    .dataframe tbody tr th:only-of-type {\n",
              "        vertical-align: middle;\n",
              "    }\n",
              "\n",
              "    .dataframe tbody tr th {\n",
              "        vertical-align: top;\n",
              "    }\n",
              "\n",
              "    .dataframe thead th {\n",
              "        text-align: right;\n",
              "    }\n",
              "</style>\n",
              "<table border=\"1\" class=\"dataframe\">\n",
              "  <thead>\n",
              "    <tr style=\"text-align: right;\">\n",
              "      <th></th>\n",
              "      <th>degree</th>\n",
              "      <th>mse_train</th>\n",
              "      <th>mse_val</th>\n",
              "    </tr>\n",
              "  </thead>\n",
              "  <tbody>\n",
              "    <tr>\n",
              "      <th>0</th>\n",
              "      <td>1</td>\n",
              "      <td>21677.866968</td>\n",
              "      <td>17773.706663</td>\n",
              "    </tr>\n",
              "    <tr>\n",
              "      <th>1</th>\n",
              "      <td>2</td>\n",
              "      <td>80.380438</td>\n",
              "      <td>132.804228</td>\n",
              "    </tr>\n",
              "    <tr>\n",
              "      <th>2</th>\n",
              "      <td>3</td>\n",
              "      <td>130.334660</td>\n",
              "      <td>199.157239</td>\n",
              "    </tr>\n",
              "    <tr>\n",
              "      <th>3</th>\n",
              "      <td>4</td>\n",
              "      <td>104.417655</td>\n",
              "      <td>191.825649</td>\n",
              "    </tr>\n",
              "    <tr>\n",
              "      <th>4</th>\n",
              "      <td>5</td>\n",
              "      <td>70.775860</td>\n",
              "      <td>147.223217</td>\n",
              "    </tr>\n",
              "  </tbody>\n",
              "</table>\n",
              "</div>\n",
              "      <button class=\"colab-df-convert\" onclick=\"convertToInteractive('df-01bdd3eb-dff1-4a5c-9de3-91f87425b825')\"\n",
              "              title=\"Convert this dataframe to an interactive table.\"\n",
              "              style=\"display:none;\">\n",
              "        \n",
              "  <svg xmlns=\"http://www.w3.org/2000/svg\" height=\"24px\"viewBox=\"0 0 24 24\"\n",
              "       width=\"24px\">\n",
              "    <path d=\"M0 0h24v24H0V0z\" fill=\"none\"/>\n",
              "    <path d=\"M18.56 5.44l.94 2.06.94-2.06 2.06-.94-2.06-.94-.94-2.06-.94 2.06-2.06.94zm-11 1L8.5 8.5l.94-2.06 2.06-.94-2.06-.94L8.5 2.5l-.94 2.06-2.06.94zm10 10l.94 2.06.94-2.06 2.06-.94-2.06-.94-.94-2.06-.94 2.06-2.06.94z\"/><path d=\"M17.41 7.96l-1.37-1.37c-.4-.4-.92-.59-1.43-.59-.52 0-1.04.2-1.43.59L10.3 9.45l-7.72 7.72c-.78.78-.78 2.05 0 2.83L4 21.41c.39.39.9.59 1.41.59.51 0 1.02-.2 1.41-.59l7.78-7.78 2.81-2.81c.8-.78.8-2.07 0-2.86zM5.41 20L4 18.59l7.72-7.72 1.47 1.35L5.41 20z\"/>\n",
              "  </svg>\n",
              "      </button>\n",
              "      \n",
              "  <style>\n",
              "    .colab-df-container {\n",
              "      display:flex;\n",
              "      flex-wrap:wrap;\n",
              "      gap: 12px;\n",
              "    }\n",
              "\n",
              "    .colab-df-convert {\n",
              "      background-color: #E8F0FE;\n",
              "      border: none;\n",
              "      border-radius: 50%;\n",
              "      cursor: pointer;\n",
              "      display: none;\n",
              "      fill: #1967D2;\n",
              "      height: 32px;\n",
              "      padding: 0 0 0 0;\n",
              "      width: 32px;\n",
              "    }\n",
              "\n",
              "    .colab-df-convert:hover {\n",
              "      background-color: #E2EBFA;\n",
              "      box-shadow: 0px 1px 2px rgba(60, 64, 67, 0.3), 0px 1px 3px 1px rgba(60, 64, 67, 0.15);\n",
              "      fill: #174EA6;\n",
              "    }\n",
              "\n",
              "    [theme=dark] .colab-df-convert {\n",
              "      background-color: #3B4455;\n",
              "      fill: #D2E3FC;\n",
              "    }\n",
              "\n",
              "    [theme=dark] .colab-df-convert:hover {\n",
              "      background-color: #434B5C;\n",
              "      box-shadow: 0px 1px 3px 1px rgba(0, 0, 0, 0.15);\n",
              "      filter: drop-shadow(0px 1px 2px rgba(0, 0, 0, 0.3));\n",
              "      fill: #FFFFFF;\n",
              "    }\n",
              "  </style>\n",
              "\n",
              "      <script>\n",
              "        const buttonEl =\n",
              "          document.querySelector('#df-01bdd3eb-dff1-4a5c-9de3-91f87425b825 button.colab-df-convert');\n",
              "        buttonEl.style.display =\n",
              "          google.colab.kernel.accessAllowed ? 'block' : 'none';\n",
              "\n",
              "        async function convertToInteractive(key) {\n",
              "          const element = document.querySelector('#df-01bdd3eb-dff1-4a5c-9de3-91f87425b825');\n",
              "          const dataTable =\n",
              "            await google.colab.kernel.invokeFunction('convertToInteractive',\n",
              "                                                     [key], {});\n",
              "          if (!dataTable) return;\n",
              "\n",
              "          const docLinkHtml = 'Like what you see? Visit the ' +\n",
              "            '<a target=\"_blank\" href=https://colab.research.google.com/notebooks/data_table.ipynb>data table notebook</a>'\n",
              "            + ' to learn more about interactive tables.';\n",
              "          element.innerHTML = '';\n",
              "          dataTable['output_type'] = 'display_data';\n",
              "          await google.colab.output.renderOutput(dataTable, element);\n",
              "          const docLink = document.createElement('div');\n",
              "          docLink.innerHTML = docLinkHtml;\n",
              "          element.appendChild(docLink);\n",
              "        }\n",
              "      </script>\n",
              "    </div>\n",
              "  </div>\n",
              "  "
            ]
          },
          "metadata": {},
          "execution_count": 11
        }
      ]
    },
    {
      "cell_type": "code",
      "source": [
        "for col in ['mse_train', 'mse_val']:\n",
        "  plt.plot(res['degree'], res[col], label=col)\n",
        "plt.yscale(\"log\")\n",
        "plt.ylabel('error')\n",
        "plt.xlabel('degree')\n",
        "plt.legend()"
      ],
      "metadata": {
        "id": "kBA8PdRHJ372",
        "outputId": "4fa9c179-1649-4976-de3f-5d28d9f6a769",
        "colab": {
          "base_uri": "https://localhost:8080/",
          "height": 297
        }
      },
      "execution_count": 12,
      "outputs": [
        {
          "output_type": "execute_result",
          "data": {
            "text/plain": [
              "<matplotlib.legend.Legend at 0x7f580234b290>"
            ]
          },
          "metadata": {},
          "execution_count": 12
        },
        {
          "output_type": "display_data",
          "data": {
            "text/plain": [
              "<Figure size 432x288 with 1 Axes>"
            ],
            "image/png": "[encoded data removed]"
          },
          "metadata": {
            "needs_background": "light"
          }
        }
      ]
    },
    {
      "cell_type": "code",
      "source": [
        "print(res.sort_values('mse_val').head())"
      ],
      "metadata": {
        "id": "xXVvQtRiLBOp",
        "outputId": "5cff471d-ab30-48f8-908a-f5f8f97949a3",
        "colab": {
          "base_uri": "https://localhost:8080/"
        }
      },
      "execution_count": 14,
      "outputs": [
        {
          "output_type": "stream",
          "name": "stdout",
          "text": [
            "   degree  mse_train     mse_val\n",
            "1       2  80.380438  132.804228\n",
            "9      10  60.431013  136.785484\n",
            "8       9  62.837575  140.693564\n",
            "5       6  67.871202  145.596768\n",
            "4       5  70.775860  147.223217\n"
          ]
        }
      ]
    },
    {
      "cell_type": "code",
      "source": [
        "def evaluate(n=10, degree=2):\n",
        "  res = np.zeros(n)\n",
        "  for i in range(n):\n",
        "    X_test, y_test = make_friedman2(n_samples=200)\n",
        "    pipe = make_pipeline(PolynomialFeatures(degree=d),\n",
        "                       StandardScaler(),\n",
        "                       Ridge()).fit(X_train, y_train)\n",
        "    res[i] = mean_squared_error(pipe.predict(X_test), y_test)\n",
        "\n",
        "  return res\n",
        "\n",
        "mse_val = evaluate(100)\n",
        "print(f\"MSE mean: {mse_val.mean()}\")\n",
        "print(f\"MSE stdev: {mse_val.std()}\")"
      ],
      "metadata": {
        "id": "ZCru-2JFLMhX",
        "outputId": "16c81933-f0eb-4dfb-d575-a3a449a8c437",
        "colab": {
          "base_uri": "https://localhost:8080/"
        }
      },
      "execution_count": 17,
      "outputs": [
        {
          "output_type": "stream",
          "name": "stdout",
          "text": [
            "MSE mean: 1291.5340045645937\n",
            "MSE stdev: 573.9009750299108\n"
          ]
        }
      ]
    }
  ],
  "metadata": {
    "interpreter": {
      "hash": "55ffbb2030bc4ba8a90331074a2555aa23a48afc6bb413e2427712cfe83133da"
    },
    "kernelspec": {
      "display_name": "Python 3.10.4 64-bit",
      "language": "python",
      "name": "python3"
    },
    "language_info": {
      "codemirror_mode": {
        "name": "ipython",
        "version": 3
      },
      "file_extension": ".py",
      "mimetype": "text/x-python",
      "name": "python",
      "nbconvert_exporter": "python",
      "pygments_lexer": "ipython3",
      "version": "3.10.4"
    },
    "orig_nbformat": 4,
    "colab": {
      "name": "aufgabe_4.ipynb",
      "provenance": [],
      "include_colab_link": true
    }
  },
  "nbformat": 4,
  "nbformat_minor": 0
}
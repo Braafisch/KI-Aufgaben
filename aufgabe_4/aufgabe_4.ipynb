{
  "cells": [
    {
      "cell_type": "markdown",
      "metadata": {
        "id": "view-in-github",
        "colab_type": "text"
      },
      "source": [
        "<a href=\"https://colab.research.google.com/github/Braafisch/KI-Aufgaben/blob/main/aufgabe_4/aufgabe_4.ipynb\" target=\"_parent\"><img src=\"https://colab.research.google.com/assets/colab-badge.svg\" alt=\"Open In Colab\"/></a>"
      ]
    },
    {
      "cell_type": "code",
      "execution_count": null,
      "metadata": {
        "id": "9jJ-PXHnPvAF",
        "outputId": "9b95b98c-997d-4c4e-a64d-cebb858d738b"
      },
      "outputs": [
        {
          "name": "stdout",
          "output_type": "stream",
          "text": [
            "Berlin was geht ab!\n"
          ]
        }
      ],
      "source": [
        "print(\"Berlin was geht ab!\")"
      ]
    },
    {
      "cell_type": "code",
      "source": [
        "%matplotlib inline\n",
        "import matplotlib.pyplot as plt\n",
        "import numpy as np\n",
        "from scipy import stats\n",
        "from sklearn.linear_model import LinearRegression\n",
        "from numpy.linalg import inv"
      ],
      "metadata": {
        "id": "NxhLe0n3P2OZ"
      },
      "execution_count": 2,
      "outputs": []
    },
    {
      "cell_type": "markdown",
      "source": [
        "# 1 House Price Model\n",
        "Fit a linear regression model to predict house prices with the data shown in the lecture:\n",
        "\n",
        "age area  |  prize (K EUR)\n",
        "-------------------|------------------\n",
        "10, 150       | 300 \n",
        "15, 120       | 200 \n",
        "10, 100       | 250\n",
        "\n",
        "\n",
        "Use your model to predict the price of a house of age 12 years and area 120 square meters.\n",
        "\n",
        "1. First you should try to build a model using Numpy commands only. To invert a matrix, you can use\n",
        "the function np.linalg.inv.\n",
        "2. Now use the machine learning library sklearn. Import the class LinearRegression from the\n",
        "linear_model subpackage (see below). Check out the documentation (API) of the class, it contains\n",
        "a small example."
      ],
      "metadata": {
        "id": "v2KnFipHQMZM"
      }
    },
    {
      "cell_type": "code",
      "source": [
        "X = np.array([[1,10,150],[1,15,120],[1,10,100]])\n",
        "y = np.array([300,200,250])\n",
        "\n",
        "th = inv(X.T @ X) @ X.T @ y\n",
        "x_test = np.array([1,12,120])\n",
        "print(th@x_test)\n",
        "\n",
        "X = np.array([[10,150],[15,120],[10,100]])\n",
        "model = LinearRegression()\n",
        "model.fit(X,y)\n",
        "print(model.predict(np.array([12,120],ndmin=2)))"
      ],
      "metadata": {
        "id": "AIvpc0R9HOVx",
        "outputId": "0c1de0ae-d526-4678-cbe4-57162f3db2e3",
        "colab": {
          "base_uri": "https://localhost:8080/"
        }
      },
      "execution_count": 15,
      "outputs": [
        {
          "output_type": "stream",
          "name": "stdout",
          "text": [
            "242.00000000000068\n",
            "[242.]\n"
          ]
        }
      ]
    },
    {
      "cell_type": "code",
      "source": [
        "np.array([[12,120]]).shape"
      ],
      "metadata": {
        "id": "-lQuQrHAJQKD",
        "outputId": "08180679-3544-443c-d219-a060320416c4",
        "colab": {
          "base_uri": "https://localhost:8080/"
        }
      },
      "execution_count": 13,
      "outputs": [
        {
          "output_type": "execute_result",
          "data": {
            "text/plain": [
              "(1, 2)"
            ]
          },
          "metadata": {},
          "execution_count": 13
        }
      ]
    },
    {
      "cell_type": "markdown",
      "source": [
        "# 2 Polynomial Features and Ridge Regression\n",
        "In this exercise we explore multivariate polynomial basis expansion using the class PolynomialFeatures\n",
        "in the package sklearn.preprocessing (read the docs).\n",
        "1. Generate data using sklearn.datasets.make_friedman2 (highly non-linear regression problem):\n",
        "Use the default parameter and create n = 200 samples. Use the function train_test_split in the\n",
        "package sklearn.model_selection to split the data in a training and a validation set (75% for\n",
        "training and 25% for validation).\n",
        "2. Fit several models on the training data: first a ridge regression model and, then, ridge regression\n",
        "models where you apply the PolynomialFeatures class (with different degrees, ranging from 2\n",
        "to 5) as a preprocessing step. All regression models should be instances of the class Ridge in\n",
        "sklearn.linear_model and should use the default parameters. In order to efficiently implement\n",
        "the preprocessing steps, check out the hint below.\n",
        "3. Compare the models using the validation set to measure the mean square error (MSE) of both\n",
        "models. Which one performs better?\n",
        "4. Now generate more data with make_friedman2 (this is the test data) and evaluate the models\n",
        "with respect to the MSE on this data. Does the measured error coincide with the results on the\n",
        "validation set?\n",
        "\n",
        "#### Hint\n",
        "Sklearn offers so called pipelines, which allows you to combine several preprocessing steps and the final\n",
        "estimator into one object. Here is an example, using a sklearn.preprocessing.StandardScaler and\n",
        "the function sklearn.pipeline.make_pipeline to build the pipeline."
      ],
      "metadata": {
        "id": "h6PBteuiMZkb"
      }
    },
    {
      "cell_type": "code",
      "source": [
        "from sklearn.model_selection import train_test_split\n",
        "from sklearn.datasets import make_friedman2\n",
        "from sklearn.metrics import mean_squared_error\n",
        "from sklearn.preprocessing import PolynomialFeatures\n",
        "from sklearn.preprocessing import StandardScaler\n",
        "from sklearn.pipeline import make_pipeline\n",
        "from sklearn.linear_model import Ridge"
      ],
      "metadata": {
        "id": "ZwnlFWMnMqMZ"
      },
      "execution_count": 16,
      "outputs": []
    },
    {
      "cell_type": "code",
      "source": [
        "np.random.seed(10)\n",
        "\n",
        "X, y = make_friedman2(n_samples=200)\n",
        "X_train, X_val, y_train, y_val = train_test_split(X,y, train_size=0.75)"
      ],
      "metadata": {
        "id": "y3snzMmjM0Ob"
      },
      "execution_count": 17,
      "outputs": []
    }
  ],
  "metadata": {
    "interpreter": {
      "hash": "55ffbb2030bc4ba8a90331074a2555aa23a48afc6bb413e2427712cfe83133da"
    },
    "kernelspec": {
      "display_name": "Python 3.10.4 64-bit",
      "language": "python",
      "name": "python3"
    },
    "language_info": {
      "codemirror_mode": {
        "name": "ipython",
        "version": 3
      },
      "file_extension": ".py",
      "mimetype": "text/x-python",
      "name": "python",
      "nbconvert_exporter": "python",
      "pygments_lexer": "ipython3",
      "version": "3.10.4"
    },
    "orig_nbformat": 4,
    "colab": {
      "name": "aufgabe_4.ipynb",
      "provenance": [],
      "include_colab_link": true
    }
  },
  "nbformat": 4,
  "nbformat_minor": 0
}
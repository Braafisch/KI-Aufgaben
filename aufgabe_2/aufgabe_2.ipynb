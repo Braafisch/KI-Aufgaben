{
  "cells": [
    {
      "cell_type": "markdown",
      "metadata": {
        "id": "view-in-github",
        "colab_type": "text"
      },
      "source": [
        "<a href=\"https://colab.research.google.com/github/Braafisch/KI-Aufgaben/blob/main/aufgabe_2/aufgabe_2.ipynb\" target=\"_parent\"><img src=\"https://colab.research.google.com/assets/colab-badge.svg\" alt=\"Open In Colab\"/></a>"
      ]
    },
    {
      "cell_type": "code",
      "execution_count": 1,
      "metadata": {
        "id": "kOxCcoCWb3qT"
      },
      "outputs": [],
      "source": [
        "%matplotlib inline\n",
        "import matplotlib.pyplot as plt\n",
        "import numpy as np\n",
        "from scipy import stats"
      ]
    },
    {
      "cell_type": "markdown",
      "source": [
        "### 1 Würfelspiel mit Münzen\n",
        "Wir betrachten folgendes Spiel: Zuerst werfen wir einen sechseitigen Würfel, nun werfen wir für jedes\n",
        "erwürfelte Auge eine Münze (z.B. wenn wir vier Augen werfen, dürfen wir vier Münzen werfen). Sei nun\n",
        "Y die Anzahl Köpfe im zweiten Wurf. Geben Sie die Dichte-Funktion fY (y) an, gerne dürfen Sie eine\n",
        "Python Funktion schreiben welche die Wahrscheinlichkeiten für Sie berechnet (Tipp: Klasse binom im\n",
        "Paket scipy.stats)."
      ],
      "metadata": {
        "id": "4AlijjyKGV4I"
      }
    },
    {
      "cell_type": "code",
      "source": [
        "def f_Y(y):\n",
        "  p = 0\n",
        "  for n in range((y if y != 0 else 1), 7):\n",
        "    p += 1/6*stats.binom.pmf(y,n,0.5)\n",
        "  return p"
      ],
      "metadata": {
        "id": "-AuIphslclIi"
      },
      "execution_count": null,
      "outputs": []
    },
    {
      "cell_type": "code",
      "source": [
        "print(f_Y(4))"
      ],
      "metadata": {
        "colab": {
          "base_uri": "https://localhost:8080/"
        },
        "id": "3jyx2ypR_1sV",
        "outputId": "956f202c-7817-4fca-cb57-00f9a7b2eae4"
      },
      "execution_count": null,
      "outputs": [
        {
          "output_type": "stream",
          "name": "stdout",
          "text": [
            "0.07552083333333331\n"
          ]
        }
      ]
    },
    {
      "cell_type": "markdown",
      "source": [
        "###  Bayes Theorem\n",
        "Wir betrachten einen medizinischen Test um auf eine Krankheit zu testen (z.B. ein Corona-Test). Das\n",
        "Ergebnis bezeichnen wir mit $Y$ , wobei $Y = 1$ ein positives Testergebnis (Person ist laut Test krank)\n",
        "und $Y = 0$ ein negatives Testergebnis bezeichnet. Mit $X$ bezeichnen wir den Gesundheitszustand der\n",
        "Person, wobei $X = 0$: gesund, $X = 1$ krank. Solche Tests sind immer fehlerbehaftet, in unserem Fall sei\n",
        "$P(Y = 1|X = 1) = 0.9$ (das nennt man die Sensitivität) und $P(Y = 0|X = 0) = 0.95$ (Spezifität).\n",
        "1. Nehmen wir an, die a-priori-Wahrscheinlichkeit krank zu sein, sei $3%$, berechnen Sie nun die\n",
        "Wahrscheinlichkeit, dass eine positiv getestete Person gesund ist, sowie die Wahrscheinlichkeit das\n",
        "eine negativ getestete Person krank ist.\n",
        "2. Nehmen wir nun an, die a-priori-Wahrscheinlichkeit krank zu sein, sei $30%$, berechnen Sie nun die\n",
        "oben genannten Wahrscheinlichkeiten.\n"
      ],
      "metadata": {
        "id": "HBOGuBgWGjmT"
      }
    },
    {
      "cell_type": "markdown",
      "source": [
        "geg: $P\\left(Y=1|X=1\\right)=0.9$, $P(Y = 0|X = 0) = 0.95$, $P(X=1)=0.03$\n",
        "\n",
        "ges: $P\\left(X=0|Y=1\\right)$, $P\\left(X=1|Y=0\\right)$"
      ],
      "metadata": {
        "id": "88R4AoF6Gtzh"
      }
    },
    {
      "cell_type": "code",
      "source": [
        "p_y_1_x_1 = 0.9\n",
        "p_y_0_x_0 = 0.95\n",
        "p_x_1 = 0.03"
      ],
      "metadata": {
        "id": "sL6wj4aUHyG4"
      },
      "execution_count": 34,
      "outputs": []
    },
    {
      "cell_type": "markdown",
      "source": [
        "$P\\left(Y=0|X=1\\right)=1-P\\left(Y=1|X=1\\right)$\n",
        "\n",
        "$P\\left(Y=1|X=0\\right)=1-P\\left(Y=0|X=0\\right)$\n",
        "\n",
        "$P(X=0)=1-P(X=1)$"
      ],
      "metadata": {
        "id": "lWtdFt_aIFLR"
      }
    },
    {
      "cell_type": "code",
      "source": [
        "p_y_0_x_1 = 1.0-p_y_1_x_1\n",
        "p_y_1_x_0 = 1.0-p_y_0_x_0\n",
        "p_x_0 = 1.0-p_x_1\n",
        "print(p_y_0_x_1, p_y_1_x_0, p_x_0)"
      ],
      "metadata": {
        "colab": {
          "base_uri": "https://localhost:8080/"
        },
        "id": "rV7Z-5VsJhhF",
        "outputId": "0ffc3f01-1b2c-4449-98fe-9148aa73ecd7"
      },
      "execution_count": 35,
      "outputs": [
        {
          "output_type": "stream",
          "name": "stdout",
          "text": [
            "0.09999999999999998 0.050000000000000044 0.97\n"
          ]
        }
      ]
    },
    {
      "cell_type": "markdown",
      "source": [
        "$P(Y=1)=P(Y=1|X=0)P(X=0)+P(Y=1|X=1)P(X=1)$\n",
        "\n",
        "$P(Y=0)=1-P(Y=1)$"
      ],
      "metadata": {
        "id": "4p8eFbrtJ7zV"
      }
    },
    {
      "cell_type": "code",
      "source": [
        "p_y_1 = p_y_1_x_0*p_x_0+p_y_1_x_1*p_x_1\n",
        "p_y_0 = 1.0-p_y_1\n",
        "print(p_y_1, p_y_0)"
      ],
      "metadata": {
        "colab": {
          "base_uri": "https://localhost:8080/"
        },
        "id": "dhximl5xKqHM",
        "outputId": "596d7647-e797-4075-8ca7-26621765af43"
      },
      "execution_count": 36,
      "outputs": [
        {
          "output_type": "stream",
          "name": "stdout",
          "text": [
            "0.07550000000000004 0.9245\n"
          ]
        }
      ]
    },
    {
      "cell_type": "markdown",
      "source": [
        "$P(Y=0|X=1)=\\frac{P(Y=1|X=0)P(X=0)}{P(Y=1)}$"
      ],
      "metadata": {
        "id": "a-0PmwkeLDc6"
      }
    },
    {
      "cell_type": "code",
      "source": [
        "p_x_0_y_1 = p_y_1_x_0*p_x_0/p_y_1\n",
        "print(p_x_0_y_1)\n",
        "p_x_1_y_0 = p_y_0_x_1*p_x_1/p_y_0\n",
        "print(p_x_1_y_0)"
      ],
      "metadata": {
        "colab": {
          "base_uri": "https://localhost:8080/"
        },
        "id": "fLfStbHkLdE9",
        "outputId": "d45f4e7e-0564-4648-c698-34e005fa11fa"
      },
      "execution_count": 37,
      "outputs": [
        {
          "output_type": "stream",
          "name": "stdout",
          "text": [
            "0.6423841059602652\n",
            "0.003244997295835586\n"
          ]
        }
      ]
    },
    {
      "cell_type": "markdown",
      "source": [
        "### 3 Normalverteilung\n",
        "\n"
      ],
      "metadata": {
        "id": "y_UEG9YlRbAX"
      }
    },
    {
      "cell_type": "markdown",
      "source": [
        "Im folgende Code-Stück sehen wir ein Beispiel für einen LinePlot:"
      ],
      "metadata": {
        "id": "MYvTpjT_Rtuj"
      }
    },
    {
      "cell_type": "code",
      "source": [
        "# array with 100 points equally spaced in [-1,1]\n",
        "x = np.linspace(-1, 1, 100)\n",
        "y = x*x\n",
        "plt.plot(x, y);"
      ],
      "metadata": {
        "colab": {
          "base_uri": "https://localhost:8080/",
          "height": 265
        },
        "id": "vV7mDu6iRwWw",
        "outputId": "7f2c6b62-2058-41b8-be75-b756ac813399"
      },
      "execution_count": 38,
      "outputs": [
        {
          "output_type": "display_data",
          "data": {
            "text/plain": [
              "<Figure size 432x288 with 1 Axes>"
            ],
            "image/png": "[encoded data removed]"
          },
          "metadata": {
            "needs_background": "light"
          }
        }
      ]
    },
    {
      "cell_type": "markdown",
      "source": [
        "Das Statistik-Modul von scipy enthält die Klasse norm. Der folgende Befehl gibt eine standardnormalverteilte Zufallsvariable zurück."
      ],
      "metadata": {
        "id": "RW00DX9-R28-"
      }
    },
    {
      "cell_type": "code",
      "source": [
        "import scipy.stats as stats\n",
        "rv = stats.norm(1, 2) # Mittelwert und Standardabweichung\n",
        "# Wahrscheinlichkeit am Punkt x=0\n",
        "print('Erwartungswert', rv.mean() )\n",
        "print('Varianz', rv.var() )\n",
        "print('Wahrscheinlichkeiten', rv.pdf(np.array([1,2,3])))"
      ],
      "metadata": {
        "colab": {
          "base_uri": "https://localhost:8080/"
        },
        "id": "VHzcpKI6R_iU",
        "outputId": "f948610e-3e9f-4401-cac3-3df92553e497"
      },
      "execution_count": 39,
      "outputs": [
        {
          "output_type": "stream",
          "name": "stdout",
          "text": [
            "Erwartungswert 1.0\n",
            "Varianz 4.0\n",
            "Wahrscheinlichkeiten [0.19947114 0.17603266 0.12098536]\n"
          ]
        }
      ]
    },
    {
      "cell_type": "markdown",
      "source": [
        "Beachten Sie: die Zufallsvariable hat eine Methode pdf (probability density function). Diskrete ZV\n",
        "haben stattdessen die Methode pmf (probability mass function)\n",
        "1. Stellen Sie die Dichtefunktion einer Normalverteilung für µ = −1 und σ = 2 dar. Geben sie auch\n",
        "die Varianz aus.\n",
        "2. Die Zufallsvariable rv besitzt die Methode rvs:`print(rv.rvs(size=5))` Erzeugen Sie 1000 Samples aus einer standardnormalverteilten Zufallsvariable und stellen Sie ein normiertes Histogramm mit der Funktion plt.hist() graphisch dar (lesen Sie die Dokumentation der Methode für die notwendige Option). Fügen Sie die Dichte der Funktion in dasselbe Schaubild\n",
        "hinzu (Sie erreichen dies, indem Sie die plt.plot() und die plt.hist() Funktion in der selben\n",
        "Zelle ausführen)."
      ],
      "metadata": {
        "id": "baCg7Z7ZSKd-"
      }
    },
    {
      "cell_type": "code",
      "source": [
        "fig, ax = plt.subplots(1,1)\n",
        "\n",
        "N = stats.norm(-1,2)\n",
        "x = np.linspace(N.ppf(0.01),N.ppf(0.99), 100)\n",
        "#x = np.linspace(-10, 10, 100)\n",
        "ax.plot(x, N.pdf(x), 'r-', lw=5, alpha=0.6, label='norm pdf')\n",
        "ax.legend(loc='best', frameon=False)\n",
        "plt.show()\n",
        "print('Erwartungswert', N.mean() )\n",
        "print('Varianz', N.var() )"
      ],
      "metadata": {
        "id": "c4WipIH6peE4",
        "outputId": "b09799f6-ea7f-4e8a-d5ee-4d38ab3b9cf3",
        "colab": {
          "base_uri": "https://localhost:8080/",
          "height": 300
        }
      },
      "execution_count": 49,
      "outputs": [
        {
          "output_type": "display_data",
          "data": {
            "text/plain": [
              "<Figure size 432x288 with 1 Axes>"
            ],
            "image/png": "[encoded data removed]"
          },
          "metadata": {
            "needs_background": "light"
          }
        },
        {
          "output_type": "stream",
          "name": "stdout",
          "text": [
            "Erwartungswert -1.0\n",
            "Varianz 4.0\n"
          ]
        }
      ]
    },
    {
      "cell_type": "code",
      "source": [
        "fig, ax = plt.subplots(1,1)\n",
        "x = np.linspace(rv.ppf(0.01),rv.ppf(0.99), 100)\n",
        "ax.plot(x, rv.pdf(x),'r-', lw=5, alpha=0.6, label='norm pdf')\n",
        "r = rv.rvs(size=1000)\n",
        "ax.hist(r, density=True, histtype='stepfilled', alpha=0.2)\n",
        "ax.legend(loc='best', frameon=False)\n",
        "plt.show()"
      ],
      "metadata": {
        "id": "JOV_FSeVy2-h",
        "outputId": "86695b84-5368-446f-801d-3b148094e706",
        "colab": {
          "base_uri": "https://localhost:8080/",
          "height": 265
        }
      },
      "execution_count": 50,
      "outputs": [
        {
          "output_type": "display_data",
          "data": {
            "text/plain": [
              "<Figure size 432x288 with 1 Axes>"
            ],
            "image/png": "[encoded data removed]"
          },
          "metadata": {
            "needs_background": "light"
          }
        }
      ]
    },
    {
      "cell_type": "markdown",
      "source": [
        "### 4 Multivariate Normalverteilung\n",
        "Im Folgenden untersuchen wir die multivariate Normalverteilung (genauer 2 D). Implementiert sind sie\n",
        "im Module scipy.stats in der Klasse multivariate_normal. Machen Sie sich zuerst mit der Klasse\n",
        "vertraut (DocString!).\n",
        "1. Erzeugen sie dann $1000$ Samples aus einer 2 dimensionalen Normalverteilung mit $µ = (0, 0)$ und der \n",
        "$$\\text{Kovarianzmatrix:}\\left({\\begin{array}{cc}\n",
        "2 & 1 \\\\\n",
        "1 & 2 \\\\\n",
        "\\end{array}}\\right)\\text{.}$$\n",
        "2. Projezieren Sie die 2-D Daten $(x_1, x_2)$ jeweils auf $x_1$ und $x_2$ und plotten Sie das Histogramm.\n",
        "3. Welche Vermutung haben Sie bzgl. der Randverteilungen? Sind diese Normalverteilungen?\n"
      ],
      "metadata": {
        "id": "7ZnYzUcMas9X"
      }
    },
    {
      "cell_type": "code",
      "source": [
        "mean = np.array([0,0])\n",
        "cov = np.array([[2,1],[1,2]])\n",
        "\n",
        "x, y = np.mgrid[-1:1:.01, -1:1:.01]\n",
        "pos = np.dstack((x,y))\n",
        "\n",
        "rv = stats.multivariate_normal(mean=mean, cov=cov)\n",
        "fig, ax = plt.subplots(1,1)\n",
        "ax.contourf(x,y,rv.pdf(pos))"
      ],
      "metadata": {
        "id": "jAnoAaIM5-Zl",
        "outputId": "2a151e91-fbaf-4b6b-9df5-f9185d2c8eb0",
        "colab": {
          "base_uri": "https://localhost:8080/",
          "height": 282
        }
      },
      "execution_count": 56,
      "outputs": [
        {
          "output_type": "execute_result",
          "data": {
            "text/plain": [
              "<matplotlib.contour.QuadContourSet at 0x7f63610b1950>"
            ]
          },
          "metadata": {},
          "execution_count": 56
        },
        {
          "output_type": "display_data",
          "data": {
            "text/plain": [
              "<Figure size 432x288 with 1 Axes>"
            ],
            "image/png": "[encoded data removed]"
          },
          "metadata": {
            "needs_background": "light"
          }
        }
      ]
    },
    {
      "cell_type": "markdown",
      "source": [
        "### 5 Multinomialverteilung\n",
        "Zeigen Sie, dass die Binomialverteilung ein Spezialfall der Multinomialverteilung ist."
      ],
      "metadata": {
        "id": "iJXGS6oBcxE2"
      }
    }
  ],
  "metadata": {
    "language_info": {
      "name": "python"
    },
    "orig_nbformat": 4,
    "colab": {
      "name": "aufgabe_2.ipynb",
      "provenance": [],
      "include_colab_link": true
    },
    "kernelspec": {
      "name": "python3",
      "display_name": "Python 3"
    }
  },
  "nbformat": 4,
  "nbformat_minor": 0
}
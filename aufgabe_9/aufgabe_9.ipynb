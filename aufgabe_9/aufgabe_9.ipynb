{
  "cells": [
    {
      "cell_type": "markdown",
      "metadata": {
        "id": "view-in-github",
        "colab_type": "text"
      },
      "source": [
        "<a href=\"https://colab.research.google.com/github/Braafisch/KI-Aufgaben/blob/main/aufgabe_9/aufgabe_9.ipynb\" target=\"_parent\"><img src=\"https://colab.research.google.com/assets/colab-badge.svg\" alt=\"Open In Colab\"/></a>"
      ]
    },
    {
      "cell_type": "code",
      "execution_count": null,
      "metadata": {
        "id": "wu77F5QIGZoL",
        "outputId": "2c1b3f4a-dfdc-4583-8599-2cc172e9e2e6"
      },
      "outputs": [
        {
          "name": "stdout",
          "output_type": "stream",
          "text": [
            "Berlin was geht ab!\n"
          ]
        }
      ],
      "source": [
        "print(\"Berlin was geht ab!\")"
      ]
    },
    {
      "cell_type": "markdown",
      "source": [
        "### Task 1)\n",
        "\n",
        "\n",
        "\n",
        "\n",
        "1.   What does MDP abbreviate?\n",
        "2.   What are the properties of MDP states?\n",
        "3.   Why are MDPs useful for Reinforcement Learning?"
      ],
      "metadata": {
        "id": "DNAX-9QCGsaO"
      }
    },
    {
      "cell_type": "code",
      "source": [
        ""
      ],
      "metadata": {
        "id": "3tbZNX79GrWS"
      },
      "execution_count": null,
      "outputs": []
    }
  ],
  "metadata": {
    "interpreter": {
      "hash": "9da9d52195322e173d33ae2e6a5687ee9810f43282d66f05579a543f3ee9968b"
    },
    "kernelspec": {
      "display_name": "Python 3.10.4 64-bit",
      "language": "python",
      "name": "python3"
    },
    "language_info": {
      "codemirror_mode": {
        "name": "ipython",
        "version": 3
      },
      "file_extension": ".py",
      "mimetype": "text/x-python",
      "name": "python",
      "nbconvert_exporter": "python",
      "pygments_lexer": "ipython3",
      "version": "3.10.4"
    },
    "orig_nbformat": 4,
    "colab": {
      "name": "aufgabe_9.ipynb",
      "provenance": [],
      "include_colab_link": true
    }
  },
  "nbformat": 4,
  "nbformat_minor": 0
}
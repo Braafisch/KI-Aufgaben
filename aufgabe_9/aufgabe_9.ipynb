{
  "cells": [
    {
      "cell_type": "markdown",
      "metadata": {
        "id": "view-in-github",
        "colab_type": "text"
      },
      "source": [
        "<a href=\"https://colab.research.google.com/github/Braafisch/KI-Aufgaben/blob/main/aufgabe_9/aufgabe_9.ipynb\" target=\"_parent\"><img src=\"https://colab.research.google.com/assets/colab-badge.svg\" alt=\"Open In Colab\"/></a>"
      ]
    },
    {
      "cell_type": "code",
      "execution_count": null,
      "metadata": {
        "id": "wu77F5QIGZoL"
      },
      "outputs": [],
      "source": [
        "print(\"Berlin was geht ab!\")"
      ]
    },
    {
      "cell_type": "markdown",
      "source": [
        "### Task 1)\n",
        "\n",
        "\n",
        "\n",
        "\n",
        "1.   What does MDP abbreviate?\n",
        "2.   What are the properties of MDP states?\n",
        "3.   Why are MDPs useful for Reinforcement Learning?"
      ],
      "metadata": {
        "id": "DNAX-9QCGsaO"
      }
    },
    {
      "cell_type": "code",
      "source": [
        ""
      ],
      "metadata": {
        "id": "3tbZNX79GrWS"
      },
      "execution_count": null,
      "outputs": []
    },
    {
      "cell_type": "markdown",
      "source": [
        "### Task 4)\n",
        "\n",
        "User Iterative Policy Evaluation for estimating vπ given the following task and a policy picking a random\n",
        "action (left, right, up, down). The cells correspond to individual states. \n",
        "Actions that would take the agent off the grid → Agent stays at this state but reward = -1. \n",
        "All other cases reward=0, except any action from A brings the agents to A’ and a reward of +10 is given\n",
        "and any action from B brings the agents to B’ and a reward of +5 is given. \n",
        "The discount rate is set to γ = 0.9."
      ],
      "metadata": {
        "id": "qwXqyLZ3P7Vh"
      }
    },
    {
      "cell_type": "code",
      "source": [
        "import numpy as np\n",
        "import matplotlib.pyplot as plt"
      ],
      "metadata": {
        "id": "TwG8MjVcQNlV"
      },
      "execution_count": null,
      "outputs": []
    },
    {
      "cell_type": "code",
      "source": [
        "def take_action(action):\n",
        "  if action==0:\n",
        "    return (-1+gamma * v_temp) if y==0 else (0+gamma * V[x,y-1])\n",
        "          \n",
        "  if action==1:\n",
        "    return (-1+gamma * v_temp) if x==size_x-1 else (0+gamma * V[x+1,y])\n",
        "\n",
        "  if action==2:\n",
        "    return (-1+gamma * v_temp) if y==size_y-1 else (0+gamma * V[x,y+1])\n",
        "        \n",
        "  if action==3:\n",
        "    return (-1+gamma * v_temp) if x==0 else (0+gamma * V[x-1,y])"
      ],
      "metadata": {
        "id": "Slu7pAQ9lhAR"
      },
      "execution_count": null,
      "outputs": []
    },
    {
      "cell_type": "code",
      "source": [
        "gamma = 0.9\n",
        "theta = 0.1\n",
        "size_x = 5\n",
        "size_y = 5\n",
        "nr_actions = 4 # 0==top, 1==right, 2== down, 3== left\n",
        "delta = 1e12\n",
        "V = np.zeros((size_x,size_y), dtype=float)\n",
        "nr_steps = 0\n",
        "Results = []\n",
        "\n",
        "while delta > theta:\n",
        "  nr_steps += 1\n",
        "  delta = 0\n",
        "  for x in range(size_x):\n",
        "    for y in range(size_y):\n",
        "      v_temp = V[x,y]\n",
        "      v_new = 0\n",
        "      for action in range(nr_actions):\n",
        "        if x==1 and y==0:\n",
        "          v_new += (10+ gamma * V[1,4])\n",
        "          continue\n",
        "        if x==3 and y==0:\n",
        "          v_new += (5+gamma *V[3,2])\n",
        "          continue\n",
        "\n",
        "        v_new = take_action(action)\n",
        "\n",
        "        V[x,y] = 1/nr_actions * v_new\n",
        "        diff = np.abs(V[x,y]-v_temp)\n",
        "\n",
        "        if delta < diff:\n",
        "          delta = diff\n",
        "    print(nr_steps,delta)\n",
        "    Results.append(delta)\n",
        "\n",
        "print(V.T)\n",
        "np.savez('TwoTablesV.npz', V= V, Results=Results) "
      ],
      "metadata": {
        "id": "kOiivjnNTb7l"
      },
      "execution_count": null,
      "outputs": []
    }
  ],
  "metadata": {
    "interpreter": {
      "hash": "9da9d52195322e173d33ae2e6a5687ee9810f43282d66f05579a543f3ee9968b"
    },
    "kernelspec": {
      "display_name": "Python 3.10.4 64-bit",
      "language": "python",
      "name": "python3"
    },
    "language_info": {
      "codemirror_mode": {
        "name": "ipython",
        "version": 3
      },
      "file_extension": ".py",
      "mimetype": "text/x-python",
      "name": "python",
      "nbconvert_exporter": "python",
      "pygments_lexer": "ipython3",
      "version": "3.10.4"
    },
    "orig_nbformat": 4,
    "colab": {
      "name": "aufgabe_9.ipynb",
      "provenance": [],
      "include_colab_link": true
    }
  },
  "nbformat": 4,
  "nbformat_minor": 0
}
{
  "cells": [
    {
      "cell_type": "markdown",
      "metadata": {
        "id": "view-in-github",
        "colab_type": "text"
      },
      "source": [
        "<a href=\"https://colab.research.google.com/github/Braafisch/KI-Aufgaben/blob/main/aufgabe_9/aufgabe_9.ipynb\" target=\"_parent\"><img src=\"https://colab.research.google.com/assets/colab-badge.svg\" alt=\"Open In Colab\"/></a>"
      ]
    },
    {
      "cell_type": "code",
      "execution_count": null,
      "metadata": {
        "id": "wu77F5QIGZoL",
        "outputId": "2c1b3f4a-dfdc-4583-8599-2cc172e9e2e6"
      },
      "outputs": [
        {
          "name": "stdout",
          "output_type": "stream",
          "text": [
            "Berlin was geht ab!\n"
          ]
        }
      ],
      "source": [
        "print(\"Berlin was geht ab!\")"
      ]
    },
    {
      "cell_type": "markdown",
      "source": [
        "### Task 1)\n",
        "\n",
        "\n",
        "\n",
        "\n",
        "1.   What does MDP abbreviate?\n",
        "2.   What are the properties of MDP states?\n",
        "3.   Why are MDPs useful for Reinforcement Learning?"
      ],
      "metadata": {
        "id": "DNAX-9QCGsaO"
      }
    },
    {
      "cell_type": "code",
      "source": [
        ""
      ],
      "metadata": {
        "id": "3tbZNX79GrWS"
      },
      "execution_count": null,
      "outputs": []
    },
    {
      "cell_type": "markdown",
      "source": [
        "### Task 4)\n",
        "\n",
        "User Iterative Policy Evaluation for estimating vπ given the following task and a policy picking a random\n",
        "action (left, right, up, down). The cells correspond to individual states. \n",
        "Actions that would take the agent off the grid → Agent stays at this state but reward = -1. \n",
        "All other cases reward=0, except any action from A brings the agents to A’ and a reward of +10 is given\n",
        "and any action from B brings the agents to B’ and a reward of +5 is given. \n",
        "The discount rate is set to γ = 0.9."
      ],
      "metadata": {
        "id": "qwXqyLZ3P7Vh"
      }
    },
    {
      "cell_type": "code",
      "source": [
        "import numpy as np\n",
        "import matplotlib.pyplot as plt"
      ],
      "metadata": {
        "id": "TwG8MjVcQNlV"
      },
      "execution_count": 1,
      "outputs": []
    },
    {
      "cell_type": "code",
      "source": [
        "gamma = 0.9\n"
      ],
      "metadata": {
        "id": "kOiivjnNTb7l"
      },
      "execution_count": null,
      "outputs": []
    }
  ],
  "metadata": {
    "interpreter": {
      "hash": "9da9d52195322e173d33ae2e6a5687ee9810f43282d66f05579a543f3ee9968b"
    },
    "kernelspec": {
      "display_name": "Python 3.10.4 64-bit",
      "language": "python",
      "name": "python3"
    },
    "language_info": {
      "codemirror_mode": {
        "name": "ipython",
        "version": 3
      },
      "file_extension": ".py",
      "mimetype": "text/x-python",
      "name": "python",
      "nbconvert_exporter": "python",
      "pygments_lexer": "ipython3",
      "version": "3.10.4"
    },
    "orig_nbformat": 4,
    "colab": {
      "name": "aufgabe_9.ipynb",
      "provenance": [],
      "include_colab_link": true
    }
  },
  "nbformat": 4,
  "nbformat_minor": 0
}
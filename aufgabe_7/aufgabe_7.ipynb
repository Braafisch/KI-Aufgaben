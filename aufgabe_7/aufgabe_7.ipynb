{
  "cells": [
    {
      "cell_type": "markdown",
      "metadata": {
        "id": "view-in-github",
        "colab_type": "text"
      },
      "source": [
        "<a href=\"https://colab.research.google.com/github/Braafisch/KI-Aufgaben/blob/main/aufgabe_7/aufgabe_7.ipynb\" target=\"_parent\"><img src=\"https://colab.research.google.com/assets/colab-badge.svg\" alt=\"Open In Colab\"/></a>"
      ]
    },
    {
      "cell_type": "code",
      "execution_count": null,
      "metadata": {
        "id": "GmqnbFp_5c9w",
        "outputId": "b0036322-68c4-4664-cbf4-83459d644e75"
      },
      "outputs": [
        {
          "name": "stdout",
          "output_type": "stream",
          "text": [
            "berlin was geht\n"
          ]
        }
      ],
      "source": [
        "print(\"berlin was geht\")"
      ]
    },
    {
      "cell_type": "markdown",
      "source": [
        "# 1 Decision Trees: Binary Classification\n",
        "\n",
        "Consider the following data with features A,B,C and the binary class target.\n",
        "\n",
        "A|B|C|target\n",
        "----|----|----|----\n",
        "T| T| 1.0| +\n",
        "T |T |6.0| +\n",
        "T |F |5.0| -\n",
        "F | F | 4.0| +\n",
        "F |T |7.0| -\n",
        "F |T |3.0 |-\n",
        "F |F |8.0 |-\n",
        "T |F |7.0 |+\n",
        "F |T| 5.0 |-\n",
        "Consider all three impurity measures: What is the best split according to each of the three measures?\n"
      ],
      "metadata": {
        "id": "myIcGJCc5n_m"
      }
    },
    {
      "cell_type": "code",
      "source": [
        "import numpy as np"
      ],
      "metadata": {
        "id": "gBtwinrA-o4G"
      },
      "execution_count": 1,
      "outputs": []
    },
    {
      "cell_type": "code",
      "source": [
        "def h(p):\n",
        "  return -p*np.log2(p)-(1-p)*np.log2(1-p)"
      ],
      "metadata": {
        "id": "aXMxO1Ol5m8w"
      },
      "execution_count": 6,
      "outputs": []
    },
    {
      "cell_type": "code",
      "source": [
        "G_A = 4/9 * h(3/4) + 5/9 *h(1/5)\n",
        "G_A"
      ],
      "metadata": {
        "id": "T528rWe2-5N6",
        "outputId": "4b7d1a03-1f52-4a2a-8d9f-94dc759c0624",
        "colab": {
          "base_uri": "https://localhost:8080/"
        }
      },
      "execution_count": 7,
      "outputs": [
        {
          "output_type": "execute_result",
          "data": {
            "text/plain": [
              "0.7616392191414825"
            ]
          },
          "metadata": {},
          "execution_count": 7
        }
      ]
    },
    {
      "cell_type": "code",
      "source": [
        "G_B = 5/9 * h(2/5) + 4/9 * h(3/5)\n",
        "G_B"
      ],
      "metadata": {
        "id": "_ceIVPar_WwV",
        "outputId": "66dc6421-d301-4dbd-ccf9-7e52d8a942f3",
        "colab": {
          "base_uri": "https://localhost:8080/"
        }
      },
      "execution_count": 9,
      "outputs": [
        {
          "output_type": "execute_result",
          "data": {
            "text/plain": [
              "0.9709505944546686"
            ]
          },
          "metadata": {},
          "execution_count": 9
        }
      ]
    },
    {
      "cell_type": "code",
      "source": [
        "C = np.array([1.0,6.0,5.0,4.0,7.0,3.0,8.0,7.0,5.0])\n",
        "target = np.array([True, True, False, True, False, False, False, True, False])"
      ],
      "metadata": {
        "id": "tHMQVifvAl8t"
      },
      "execution_count": 10,
      "outputs": []
    },
    {
      "cell_type": "code",
      "source": [
        "len(C)"
      ],
      "metadata": {
        "id": "S3XQLcBYCK6I",
        "outputId": "f7177d65-9c53-46ff-9afd-0bafb59f2d9d",
        "colab": {
          "base_uri": "https://localhost:8080/"
        }
      },
      "execution_count": 13,
      "outputs": [
        {
          "output_type": "execute_result",
          "data": {
            "text/plain": [
              "9"
            ]
          },
          "metadata": {},
          "execution_count": 13
        }
      ]
    },
    {
      "cell_type": "code",
      "source": [
        "def G(D,thao,target):\n",
        "  return (D < thao).sum()/len(D) * h()\n"
      ],
      "metadata": {
        "id": "rZdKGR7qBoy5"
      },
      "execution_count": null,
      "outputs": []
    },
    {
      "cell_type": "code",
      "source": [
        "G_C_2 = 1/9*h(1)\n",
        "print(G_C_2)\n",
        "G_C_3_5 = 2/9*h(1/2)+7/9*h(1/2)\n",
        "print(G_C_3_5)\n",
        "G_C_4_5 = 3/9*h(2/3)+6/9*h(1/3)\n",
        "print(G_C_4_5)\n",
        "G_C_5_5 = 5/9*(2/5)+4/9*h(3/5)\n",
        "print(G_C_5_5)\n",
        "G_C_6_5 = 6/9*(3/6)+3/9*h(3/6)\n",
        "print(G_C_6_5)\n",
        "G_C_7_5 = 8/9*(4/8)+1/9*h(4/8)\n",
        "print(G_C_6_5)"
      ],
      "metadata": {
        "id": "R-hljDq9AVR7",
        "outputId": "fbf82807-ef21-4fe6-9ccc-e41386b3b0c8",
        "colab": {
          "base_uri": "https://localhost:8080/"
        }
      },
      "execution_count": 14,
      "outputs": [
        {
          "output_type": "stream",
          "name": "stdout",
          "text": [
            "nan\n",
            "1.0\n",
            "0.9182958340544896\n",
            "0.6537558197576304\n",
            "0.6666666666666666\n",
            "0.6666666666666666\n"
          ]
        },
        {
          "output_type": "stream",
          "name": "stderr",
          "text": [
            "/usr/local/lib/python3.7/dist-packages/ipykernel_launcher.py:2: RuntimeWarning: divide by zero encountered in log2\n",
            "  \n",
            "/usr/local/lib/python3.7/dist-packages/ipykernel_launcher.py:2: RuntimeWarning: invalid value encountered in double_scalars\n",
            "  \n"
          ]
        }
      ]
    }
  ],
  "metadata": {
    "interpreter": {
      "hash": "9650cb4e16cdd4a8e8e2d128bf38d875813998db22a3c986335f89e0cb4d7bb2"
    },
    "kernelspec": {
      "display_name": "Python 3.8.2 64-bit",
      "language": "python",
      "name": "python3"
    },
    "language_info": {
      "codemirror_mode": {
        "name": "ipython",
        "version": 3
      },
      "file_extension": ".py",
      "mimetype": "text/x-python",
      "name": "python",
      "nbconvert_exporter": "python",
      "pygments_lexer": "ipython3",
      "version": "3.8.2"
    },
    "orig_nbformat": 4,
    "colab": {
      "name": "aufgabe_7.ipynb",
      "provenance": [],
      "include_colab_link": true
    }
  },
  "nbformat": 4,
  "nbformat_minor": 0
}